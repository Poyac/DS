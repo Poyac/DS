{
 "cells": [
  {
   "cell_type": "markdown",
   "metadata": {},
   "source": [
    "# Bienvenue dans le DS du module M2106 !\n",
    "\n",
    "Ce notebook contient un certain nombre de cellules arrangées par couples : une cellule de \"markdown\" qui décrit ce que j'attends de vous suivie d'une cellule de code, une cellule d'explications, une cellule de code, etc. \n",
    "\n",
    "Pour que ce soit plus drôle, les cellules de code sont incomplètes. Je n'ai pas eu le temps de tout écrire et ce sera donc à vous de compléter le code. Les endroits où vous devez intervenir sont matérialisés par des messages du type __&lt;votre code ici&gt;__.\n",
    "\n",
    "A la fin du DS, vous m'enverrez votre fichier \"DS-2021.ipynb\" complété à mon adresse francois.thomas01@unicaen.fr.\n",
    "\n",
    "Si vous avez des difficultés à compléter le code mais que vous m'expliquez bien, dans la cellule, comment vous vouliez procéder, ça vous apportera des points !\n",
    "\n",
    "Les cellules sont indépendantes les unes des autres.\n",
    "\n",
    "Ca sera assez facile à corriger pour moi : j'exécuterai vos cellules, une par une. Une par une ? Une par une.\n",
    "\n",
    "Et maintenant, à vos ![claviers](https://content.pearl.fr/media/cache/default/article_ultralarge_high_nocrop/shared/images/articles/K/KT8/clavier-usb-standard-avec-clavier-numerique-ref_KT8426_1.jpg \"claviers\")\n"
   ]
  },
  {
   "cell_type": "markdown",
   "metadata": {},
   "source": [
    "# Question 0\n",
    "\n",
    "Une cellule pour de faux, pour l'échauffement. Il s'agit de modifier la cellule ci-dessous pour qu'elle affiche votre nom au lieu du mien."
   ]
  },
  {
   "cell_type": "code",
   "execution_count": 1,
   "metadata": {},
   "outputs": [
    {
     "name": "stdout",
     "output_type": "stream",
     "text": [
      "François Thomas\n"
     ]
    }
   ],
   "source": [
    "# Réponse 0\n",
    "\n",
    "# Voici le code pour afficher mon nom\n",
    "print(\"François Thomas\")"
   ]
  },
  {
   "cell_type": "markdown",
   "metadata": {},
   "source": [
    "# Question 1\n",
    "\n",
    "C'est parti ! Dans la cellule ci-dessous, vous allez créer un variable \"temps\" de type chaine de caractères dont vous allez vous servir pour afficher un message concernant le temps aujourd'hui. Peut importe si le temps affiché est météorologiquement incorrect du moment qu'un message s'affiche."
   ]
  },
  {
   "cell_type": "code",
   "execution_count": null,
   "metadata": {},
   "outputs": [],
   "source": [
    "# Réponse 1\n",
    "\n",
    "# Je choisis d'appeler ma variable \"temps\" et je lui attribue une valeur\n",
    "temps = \"\" # A vous de compléter\n",
    "print(\"Aujourd'hui, il fait\",)\n"
   ]
  },
  {
   "cell_type": "markdown",
   "metadata": {},
   "source": [
    "# Question 2\n",
    "\n",
    "Il faut toujours adapter sa tenue vestimentaire à la météo. Mes règles personnelles sont très simples : si la température est inférieure à 20 degrés, je mets un pantalon, sinon, je mets un short.\n",
    "\n",
    "Je souhaite implémenter cette règle vestimentaire en Python.\n",
    "\n",
    "Dans la cellule ci-dessous, je vais fixer la valeur de la température et laisser le programme décider de ma tenue.\n"
   ]
  },
  {
   "cell_type": "code",
   "execution_count": null,
   "metadata": {},
   "outputs": [],
   "source": [
    "# Réponse 2\n",
    "\n",
    "# La température extérieure est stockée dans la variable t_ext. On pourra expériementer en changeant sa valeur.\n",
    "t_ext = 14\n",
    "\n",
    "# Il me faut exprimer une alternative, selon que t_ext est inférieure à 20 ou supérieure à 20 degrés.\n",
    "if <votre code ici> :\n",
    "    print(\"Il fait chaud, je mets un short.\")\n",
    "else:\n",
    "    print(\"Pas assez chaud, je mets un pantalon.\")"
   ]
  },
  {
   "cell_type": "markdown",
   "metadata": {},
   "source": [
    "# Question 3\n",
    "\n",
    "C'est le moment de se rendre à la bibliothèque, mais avant de rendre les 6 bouquins que j'ai empruntés, je voudrais faire quelques statistiques sur mes lectures.\n",
    "\n",
    "J'ai consigné dans une liste les nombres de pages de chaque livre que j'ai lu. Je souhaite parcourir la liste de ces livres et pour chacun, afficher un message : \"C'est un gros livre\" si le livre fait plus de 200 pages et \"C'est un petit livre\" si le livre fait moins de 200 pages. Un peu comme pour la question 2 mais pour chacun des 6 livres.\n"
   ]
  },
  {
   "cell_type": "code",
   "execution_count": null,
   "metadata": {},
   "outputs": [],
   "source": [
    "# Réponse 3\n",
    "\n",
    "# La liste ci-dessous contient les nombres de pages des 6 livres.\n",
    "# Rappel: pour accéder à l'élément d'indice 3 dans une liste on utilise la notation pages[3]\n",
    "#         en Python, les indices commencent à 0, de sorte que l'indice 3 correspond au livre de 546 pages.\n",
    "pages = [324, 112, 254, 546, 387, 88]\n",
    "\n",
    "# C'est cadeau, je vous montre comment parcourir la liste\n",
    "for i in range(6):\n",
    "    print(\"Le livre d'indice\",i,\"comporte\",pages[i],\"pages.\")\n",
    "    \n",
    "# Maintenant c'est à vous de parcourir la liste, et à chaque livre,\n",
    "#   de déterminer si le livre est gros ou petit et d'afficher en conséquence.\n",
    "for i in range(6):\n",
    "    if pages[i] <votre code ici> :\n",
    "        print(\"Le livre d'indice\",i,\"est un gros livre de\",<votre code ici>,\"pages\")\n",
    "    else:\n",
    "        print(\"Le livre d'indice\",i,\"est un petit livre de\",<votre code ici>,\"pages.\")\n",
    "\n",
    "# Voilà, on est fier de nous"
   ]
  },
  {
   "cell_type": "markdown",
   "metadata": {},
   "source": [
    "# Question 4\n",
    "\n",
    "La question est maintenant de savoir combien j'ai lu de pages en tout. C'est très simple, il me suffit d'accumuler le nombre de pages de chacun des livres. On commence en ayant lu 0 pages puis on accumule.\n"
   ]
  },
  {
   "cell_type": "code",
   "execution_count": null,
   "metadata": {},
   "outputs": [],
   "source": [
    "# Réponse 4\n",
    "\n",
    "# La liste ci-dessous contient les nombres de pages des 6 livres.\n",
    "# Rappel: pour accéder à l'élément d'indice 3 dans une liste on utilise la notation pages[3]\n",
    "#         en Python, les indices commencent à 0, de sorte que l'indice 3 correspond au livre de 546 pages.\n",
    "pages = [324, 112, 254, 546, 387, 88]\n",
    "\n",
    "# L'accumulation est un grand classique\n",
    "pages_lues = 0 # on commence avec 0 pages lues\n",
    "\n",
    "# On parcourt la liste des nombres de pages et on accumule\n",
    "for i in range(6):\n",
    "    pages_lues = <votre code ici>\n",
    "\n",
    "# Et voilà, on affiche le total\n",
    "print(\"Au total, j'ai lu\",pages_lues,\"pages.\")"
   ]
  },
  {
   "cell_type": "markdown",
   "metadata": {},
   "source": [
    "# Question 5\n",
    "\n",
    "Dans le même ordre d'idées, on peut chercher le nombre de pages du plus petit livre ou du plus gros livre selon un principe similaire. Par exemple, pour chercher le livre le plus gros, on commence par prétendre que le plus gros livre fait 0 pages, et on parcourt la liste. A chaque fois, qu'on a un livre qui a un nombre de pages supérieur à celui qu'on connaissait jusqu'à présent, on met à jour notre conception du plus gros livre. A la fin du parcours, on a le plus gros livre.\n",
    "\n",
    "Allez, on s'y colle."
   ]
  },
  {
   "cell_type": "code",
   "execution_count": null,
   "metadata": {},
   "outputs": [],
   "source": [
    "# Réponse 5\n",
    "\n",
    "# La liste ci-dessous contient les nombres de pages des 6 livres.\n",
    "# Rappel: pour accéder à l'élément d'indice 3 dans une liste on utilise la notation pages[3]\n",
    "#         en Python, les indices commencent à 0, de sorte que l'indice 3 correspond au livre de 546 pages.\n",
    "pages = [324, 112, 254, 546, 387, 88]\n",
    "\n",
    "# La recherche de minimum/maximum est aussi grand classique\n",
    "pages_max = 0 # on commence avec 0 comme nombre de pages maxi\n",
    "\n",
    "# On parcourt la liste des nombres de pages et on actualise la valeur de pages_max chaque fois que c'est nécessaire\n",
    "for i in range(6):\n",
    "    if pages[i] > pages_max:\n",
    "        # Ah, on a trouvé un livre avec plus de pages que le plus gros livre connu jusqu'a présent\n",
    "        # Il nous faut réviser notre conception du plus gros livre.\n",
    "        pages_max = <votre code ici>\n",
    "\n",
    "# Et voilà, on affiche le max\n",
    "print(\"Le plus gros livre fait\",pages_max,\"pages.\")"
   ]
  },
  {
   "cell_type": "markdown",
   "metadata": {},
   "source": [
    "# Question 6\n",
    "\n",
    "Tiens, puisqu'on en parle, ça serait bien de faire le même travail pour trouver le plus petit livre cette fois.\n",
    "\n",
    "Attention, l'initialisation de la valeur mini est piégeuse...\n"
   ]
  },
  {
   "cell_type": "code",
   "execution_count": null,
   "metadata": {},
   "outputs": [],
   "source": [
    "# Réponse 6\n",
    "\n",
    "# La liste ci-dessous contient les nombres de pages des 6 livres.\n",
    "# Rappel: pour accéder à l'élément d'indice 3 dans une liste on utilise la notation pages[3]\n",
    "#         en Python, les indices commencent à 0, de sorte que l'indice 3 correspond au livre de 546 pages.\n",
    "pages = [324, 112, 254, 546, 387, 88]\n",
    "\n",
    "# La recherche de minimum/maximum est aussi grand classique\n",
    "pages_min = <votre code ici> # on commence avec quoi comme nombre de pages mini ?\n",
    "\n",
    "# On parcourt la liste des nombres de pages et on actualise la valeur de pages_min chaque fois que c'est nécessaire\n",
    "for i in range(6):\n",
    "    if pages[i] < pages_min:\n",
    "        # Ah, on a trouvé un livre avec moins de pages que le plus petit livre connu jusqu'a présent\n",
    "        # Il nous faut réviser notre conception du plus petit livre.\n",
    "        pages_min = <votre code ici>\n",
    "\n",
    "# Et voilà, on affiche le min\n",
    "print(\"Le plus petit livre fait\",pages_min,\"pages.\")"
   ]
  },
  {
   "cell_type": "markdown",
   "metadata": {},
   "source": [
    "# Question 7\n",
    "\n",
    "Et maintenant, un exercice compliqué. On va calculer une moyenne glissante sur 7 jours à partir de données quotidiennes.\n",
    "\n",
    "Pour calculer la moyenne glissante sur 7 jours au jour j, on va faire la moyenne des valeurs au jour j, j+1, ..., j+6. Avant de passer au jour j suivant. Cette technique permet de \"lisser\" des données. Bien sûr, comme on a besoin pour la moyenne au jour de données jusqu'au jour j+6, il faut s'arrêter avant la fin des données.\n",
    "\n",
    "Dans la cellule ci-dessous, je donne un tableau de 35 valeurs (y) pour 35 jours numérotés 0, 1, ...34 (x).\n",
    "\n",
    "Je fournis aussi une première représentation graphique de y=f(x) sur les 35 jours. Il s'agit maintenant de trouver un algorithme permettant de calculer les moyennes glissantes à 7 jour sur les 28 premiers jours. On ne peut aller au delà puisqu'il faudrait alors disposer de données jusqu'à 42 jours.\n",
    "\n",
    "La moyenne glissante sera stockée dans le tableau yg7 (g pour glissante, 7 pour 7 jours).\n",
    "\n",
    "Laissez vous guider par les commentaires dans la cellule ci-dessous.\n",
    "\n",
    "Question subsidiaire : comment faudrait il modifier le programme pour calculer des moyennes glissantes à 3 jours ou à 14 ?\n"
   ]
  },
  {
   "cell_type": "code",
   "execution_count": 14,
   "metadata": {},
   "outputs": [
    {
     "ename": "SyntaxError",
     "evalue": "invalid syntax (<ipython-input-14-adc79aafb320>, line 24)",
     "output_type": "error",
     "traceback": [
      "\u001b[0;36m  File \u001b[0;32m\"<ipython-input-14-adc79aafb320>\"\u001b[0;36m, line \u001b[0;32m24\u001b[0m\n\u001b[0;31m    s = s + <votre code ici>\u001b[0m\n\u001b[0m            ^\u001b[0m\n\u001b[0;31mSyntaxError\u001b[0m\u001b[0;31m:\u001b[0m invalid syntax\n"
     ]
    }
   ],
   "source": [
    "# Réponse 7\n",
    "\n",
    "%pylab inline\n",
    "import matplotlib.pyplot as plt\n",
    "\n",
    "# Voici les données de base : x: les jours et y: une variable quelconque, le nombre de clopes par jour\n",
    "#   le nombre de fleurs dans le jardin, ce que vous voulez\n",
    "x = [0,1,2,3,4,5,6,7,8,9,10,11,12,13,14,15,16,17,18,19,20,21,22,23,24,25,26,27,28,29,30,31,32,33,34]\n",
    "y = [20,26,29,26,19,12,9,11,17,24,26,23,17,10,7,10,15,21,23,20,15,9,6,8,13,19,20,18,13,7,5,7,11,16,18]\n",
    "\n",
    "# Ca, ca va permettre de représenter les données brutes, toujours utile.\n",
    "plt.xlabel(\"Jours\")\n",
    "plt.ylabel(\"Machins\")\n",
    "plt.plot(x,y)\n",
    "\n",
    "# Ah, ça, c'est notre tableau des moyennes glissantes à 7 jours. On s'arrête à 28 jours. Cf ci-dessus.\n",
    "yg7 = [0,0,0,0,0,0,0,0,0,0,0,0,0,0,0,0,0,0,0,0,0,0,0,0,0,0,0,0]\n",
    "\n",
    "# Maintenant, il faut calculer pour chaque jour i, la moyenne des 7 jours à partir de i\n",
    "for j in range(28):\n",
    "    # On peut calculer la somme des valeurs, on divisera après par 7 pour avoir la moyenne.\n",
    "    s = 0\n",
    "    for i in range(7):\n",
    "        s = s + <votre code ici>\n",
    "    # On a la somme des valeurs, on divise par 7 pour avoir la moyenne glissante à 7 jours\n",
    "    yg7[j] = <votre code ici>\n",
    "    \n",
    "# Et maintenant, voyons cette moyenne glissante\n",
    "plt.plot(x[:28],yg7)"
   ]
  },
  {
   "cell_type": "code",
   "execution_count": null,
   "metadata": {},
   "outputs": [],
   "source": []
  }
 ],
 "metadata": {
  "kernelspec": {
   "display_name": "Python 3",
   "language": "python",
   "name": "python3"
  },
  "language_info": {
   "codemirror_mode": {
    "name": "ipython",
    "version": 3
   },
   "file_extension": ".py",
   "mimetype": "text/x-python",
   "name": "python",
   "nbconvert_exporter": "python",
   "pygments_lexer": "ipython3",
   "version": "3.6.4"
  }
 },
 "nbformat": 4,
 "nbformat_minor": 2
}
